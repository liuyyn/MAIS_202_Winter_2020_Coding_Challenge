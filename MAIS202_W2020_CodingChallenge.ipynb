{
  "nbformat": 4,
  "nbformat_minor": 0,
  "metadata": {
    "colab": {
      "name": "MAIS202_W2020_CodingChallenge.ipynb",
      "provenance": [],
      "collapsed_sections": [],
      "include_colab_link": true
    },
    "kernelspec": {
      "name": "python3",
      "display_name": "Python 3"
    }
  },
  "cells": [
    {
      "cell_type": "markdown",
      "metadata": {
        "id": "view-in-github",
        "colab_type": "text"
      },
      "source": [
        "<a href=\"https://colab.research.google.com/github/yuyunliu33/MAIS_202_Winter_2020_Coding_Challenge/blob/master/MAIS202_W2020_CodingChallenge.ipynb\" target=\"_parent\"><img src=\"https://colab.research.google.com/assets/colab-badge.svg\" alt=\"Open In Colab\"/></a>"
      ]
    },
    {
      "cell_type": "markdown",
      "metadata": {
        "id": "BrOU6Q5yLB7l",
        "colab_type": "text"
      },
      "source": [
        "# MAIS 202 Winter 2020 Coding Challenge"
      ]
    },
    {
      "cell_type": "markdown",
      "metadata": {
        "id": "GWmXA7Y2CpXm",
        "colab_type": "text"
      },
      "source": [
        "[Application](http://tiny.cc/mais202-w2020-app)\n",
        "\n",
        "[Course Syllabus](http://tiny.cc/mais202-w2020-syllabus)"
      ]
    },
    {
      "cell_type": "markdown",
      "metadata": {
        "id": "ndY3n2f3GDGU",
        "colab_type": "text"
      },
      "source": [
        "## Instructions\n",
        " Make a copy of this notebook into your personal google drive account.\n",
        "Make sure to make this notebook public by 11:59 pm, Janurary 7th, 2020 in order to be evaluated.\n",
        "If you have any questions regarding this challenge, please reach out to us through our [Facebook Page](https://www.facebook.com/McGillAI/)."
      ]
    },
    {
      "cell_type": "markdown",
      "metadata": {
        "id": "j6hnKFVl_q1Y",
        "colab_type": "text"
      },
      "source": [
        "## Questions\n",
        "* [Part 1](#scrollTo=QYskRrWJEwZH)\n",
        "* [Part 2 Task 1](#scrollTo=yl9IKD31K-J0)\n",
        "* [Part 2 Task 2](#scrollTo=t_xY3228qPmP)"
      ]
    },
    {
      "cell_type": "markdown",
      "metadata": {
        "id": "ihcWx8XBBrpY",
        "colab_type": "text"
      },
      "source": [
        "## Part 1"
      ]
    },
    {
      "cell_type": "markdown",
      "metadata": {
        "id": "nq51RVvoBtUc",
        "colab_type": "text"
      },
      "source": [
        "This part asks you to analyze a dataset using libraries.\n",
        "To learn more about movies grosses, we have provided you with two csv's: `movies_data.csv` and `genre_data.csv`.\n",
        "The urls to the files are\n",
        "```\n",
        "https://raw.githubusercontent.com/kayguxe/MF/master/genre_data.csv\n",
        "```\n",
        "and\n",
        "```\n",
        "https://raw.githubusercontent.com/kayguxe/MF/master/movies_data.csv\n",
        "```\n",
        "The file `movies_data.csv` contains information about movies such as their title, imdb rating, length, rank, rating, studio, worldwide gross, and year in a comma seperated format as shown below.\n",
        "![CSV example 1](https://user-images.githubusercontent.com/10730760/71313653-b9478880-2409-11ea-8745-a58909dcbd0f.png)\n",
        "\n",
        "The file `genre_data.csv` contains the genre for each movie in the `movies_data.csv` file, as shown below.\n",
        "![CSV example 2](https://user-images.githubusercontent.com/10730760/71313662-d3816680-2409-11ea-94c7-6795663ef8e3.png)\n",
        "\n",
        "Your challenge is as follows:\n",
        "\n",
        "1. In the provided cell, load the datasets from their urls, parse the information and determine the average worldwide gross for each of the genres using the **pandas** library. https://pandas.pydata.org/.\n",
        "2. Plot the results onto a graph using the **matplotlib** library. https://matplotlib.org/.\n",
        "\n",
        "**Note.** You are not allowed to use other libraries, and you are required to write all the code in the following cell. You are also not allowed to run bash commands. You must use the libraries we ask you to use.\n",
        "\n"
      ]
    },
    {
      "cell_type": "code",
      "metadata": {
        "id": "QYskRrWJEwZH",
        "colab_type": "code",
        "outputId": "f9eb0aab-ea38-4572-a786-9da5ef0b14ac",
        "colab": {
          "base_uri": "https://localhost:8080/",
          "height": 599
        }
      },
      "source": [
        "# Import libraries \n",
        "import pandas as pd\n",
        "import matplotlib.pyplot as plt\n",
        "\n",
        "# get the DataFrame from url \n",
        "movies = pd.read_csv(\"https://raw.githubusercontent.com/kayguxe/MF/master/movies_data.csv\") \n",
        "movie_genres = pd.read_csv(\"https://raw.githubusercontent.com/kayguxe/MF/master/genre_data.csv\")\n",
        "\n",
        "# add the column worldwide_gross to movie_genre dataframe \n",
        "movie_genres['worldwide_gross'] = movies.worldwide_gross\n",
        "\n",
        "# create a function that will process the strings from column worldwide_gross to float\n",
        "def process(x):\n",
        "  x = x.replace('$', '')\n",
        "  x = x.replace(',', '')\n",
        "  return float(x)\n",
        "\n",
        "movie_genres['worldwide_gross'] = movie_genres.worldwide_gross.apply(process) \n",
        "\n",
        "# select columns need from movie_genres and get the mean of worldwide_gross \n",
        "result = movie_genres.groupby('Main_Genre').mean()\n",
        "\n",
        "# plot result into a bar plot \n",
        "result.plot(kind = 'bar', legend = None)\n",
        "plt.ylabel('worldwide_gross')\n",
        "\n",
        "result\n"
      ],
      "execution_count": 0,
      "outputs": [
        {
          "output_type": "execute_result",
          "data": {
            "text/html": [
              "<div>\n",
              "<style scoped>\n",
              "    .dataframe tbody tr th:only-of-type {\n",
              "        vertical-align: middle;\n",
              "    }\n",
              "\n",
              "    .dataframe tbody tr th {\n",
              "        vertical-align: top;\n",
              "    }\n",
              "\n",
              "    .dataframe thead th {\n",
              "        text-align: right;\n",
              "    }\n",
              "</style>\n",
              "<table border=\"1\" class=\"dataframe\">\n",
              "  <thead>\n",
              "    <tr style=\"text-align: right;\">\n",
              "      <th></th>\n",
              "      <th>worldwide_gross</th>\n",
              "    </tr>\n",
              "    <tr>\n",
              "      <th>Main_Genre</th>\n",
              "      <th></th>\n",
              "    </tr>\n",
              "  </thead>\n",
              "  <tbody>\n",
              "    <tr>\n",
              "      <th>Action</th>\n",
              "      <td>4.032829e+08</td>\n",
              "    </tr>\n",
              "    <tr>\n",
              "      <th>Animation</th>\n",
              "      <td>3.790071e+08</td>\n",
              "    </tr>\n",
              "    <tr>\n",
              "      <th>Fantasy</th>\n",
              "      <td>8.568844e+08</td>\n",
              "    </tr>\n",
              "    <tr>\n",
              "      <th>Horror</th>\n",
              "      <td>3.274817e+08</td>\n",
              "    </tr>\n",
              "    <tr>\n",
              "      <th>Music</th>\n",
              "      <td>3.518679e+08</td>\n",
              "    </tr>\n",
              "    <tr>\n",
              "      <th>Romance</th>\n",
              "      <td>2.011514e+08</td>\n",
              "    </tr>\n",
              "    <tr>\n",
              "      <th>Sci-Fi</th>\n",
              "      <td>7.115287e+08</td>\n",
              "    </tr>\n",
              "  </tbody>\n",
              "</table>\n",
              "</div>"
            ],
            "text/plain": [
              "            worldwide_gross\n",
              "Main_Genre                 \n",
              "Action         4.032829e+08\n",
              "Animation      3.790071e+08\n",
              "Fantasy        8.568844e+08\n",
              "Horror         3.274817e+08\n",
              "Music          3.518679e+08\n",
              "Romance        2.011514e+08\n",
              "Sci-Fi         7.115287e+08"
            ]
          },
          "metadata": {
            "tags": []
          },
          "execution_count": 96
        },
        {
          "output_type": "display_data",
          "data": {
            "image/png": "[encoded data removed]",
            "text/plain": [
              "<Figure size 432x288 with 1 Axes>"
            ]
          },
          "metadata": {
            "tags": []
          }
        }
      ]
    },
    {
      "cell_type": "markdown",
      "metadata": {
        "id": "OJ9JDKpBFjMP",
        "colab_type": "text"
      },
      "source": [
        "The output of the cell should be similar to the results shown below.\n",
        "![results1](https://user-images.githubusercontent.com/10730760/71313669-e72ccd00-2409-11ea-9abe-599df7c4d36d.png)\n",
        "![results2](https://user-images.githubusercontent.com/10730760/71313671-f01d9e80-2409-11ea-8582-068cf4371e10.png)"
      ]
    },
    {
      "cell_type": "markdown",
      "metadata": {
        "id": "-VmgvHMbLJtD",
        "colab_type": "text"
      },
      "source": [
        "## Part 2"
      ]
    },
    {
      "cell_type": "markdown",
      "metadata": {
        "id": "XmKUKjJZnQJm",
        "colab_type": "text"
      },
      "source": [
        "For the second half of the coding challenge, you are not allowed to use libraries.\n",
        "More specifically, you are not allowed to use imported code from the standard library nor from external libraries."
      ]
    },
    {
      "cell_type": "markdown",
      "metadata": {
        "id": "hNjqnOCknIOM",
        "colab_type": "text"
      },
      "source": [
        "### First Task"
      ]
    },
    {
      "cell_type": "markdown",
      "metadata": {
        "id": "wL4DFYslLPgM",
        "colab_type": "text"
      },
      "source": [
        "Your first task is to write a helper function `to_grade_point` which converts a grade out of 100 into a `tuple` whose first entry is a string representing the letter grade and whose second entry is a float representing the Grade Points.\n",
        "\n",
        "\n",
        "![Letter Grade Table](https://i.ibb.co/WnvbXL1/table.png)\n",
        "\n",
        "\n",
        "**Note.** Inputs are assumed to be valid. That is, inputs will be integers from 0 to 100 inclusive."
      ]
    },
    {
      "cell_type": "code",
      "metadata": {
        "id": "yl9IKD31K-J0",
        "colab_type": "code",
        "colab": {}
      },
      "source": [
        "def to_grade_point(grade):\n",
        "  if 85 <= grade <= 100:\n",
        "     return ('A', 4.0)\n",
        "  elif grade >= 80:\n",
        "    return ('A-', 3.7)\n",
        "  elif grade >= 75:\n",
        "    return ('B+', 3.3)\n",
        "  elif grade >= 70:\n",
        "    return ('B', 3.0)\n",
        "  elif grade >= 65:\n",
        "    return ('B-', 2.7)\n",
        "  elif grade >= 60:\n",
        "    return ('C+', 2.3)\n",
        "  else:\n",
        "    return ('F', 0.0)"
      ],
      "execution_count": 0,
      "outputs": []
    },
    {
      "cell_type": "markdown",
      "metadata": {
        "id": "zYwXZLWQiSp4",
        "colab_type": "text"
      },
      "source": [
        "You can test your code with the following snippet.\n",
        "If your code is correct, you should see\n",
        "\n",
        "![Example Code 1](https://i.ibb.co/4F9mP9Y/code1.png)"
      ]
    },
    {
      "cell_type": "code",
      "metadata": {
        "id": "MpZEmQ6WiPNY",
        "colab_type": "code",
        "outputId": "e4aa0d8b-9e5d-4855-cf90-c36b2680ce0b",
        "colab": {
          "base_uri": "https://localhost:8080/",
          "height": 151
        }
      },
      "source": [
        "for grade in [0, 99, 80, 85, 84, 60, 59, 74]:\n",
        "  print(\"{} -> {}\".format(grade, to_grade_point(grade)))"
      ],
      "execution_count": 0,
      "outputs": [
        {
          "output_type": "stream",
          "text": [
            "0 -> ('F', 0.0)\n",
            "99 -> ('A', 4.0)\n",
            "80 -> ('A-', 3.7)\n",
            "85 -> ('A', 4.0)\n",
            "84 -> ('A-', 3.7)\n",
            "60 -> ('C+', 2.3)\n",
            "59 -> ('F', 0.0)\n",
            "74 -> ('B', 3.0)\n"
          ],
          "name": "stdout"
        }
      ]
    },
    {
      "cell_type": "markdown",
      "metadata": {
        "id": "4h1sMQu_nk6a",
        "colab_type": "text"
      },
      "source": [
        "### Second Task"
      ]
    },
    {
      "cell_type": "markdown",
      "metadata": {
        "id": "HE0IwJBNnrbG",
        "colab_type": "text"
      },
      "source": [
        "Your second task is to write a class named `GradeRecords` with a certain specification.\n",
        "This part will use the helper function defined in the first part so make sure to do that first.\n",
        "\n",
        "A `GradeRecords` object has the following attributes:\n",
        "* `term`, a string representing the current semester;\n",
        "* `grades`, a `list` object containing `tuples`, where the first entry of each tuple is a string representing the code of the class, the second entry of each tuple is the grade out of 100, and the third entry is the number of credits for this course. `grades` can be initialized (see below) as an empty list.\n",
        "* `num_courses` an `int` which contains the number of courses in the record. This can be initialized as 0.\n",
        "\n",
        "\n",
        "**Note.** You are not allowed to add more attributes.\n",
        "\n",
        "Furthermore, a `GradeRecords` object has the following methods:\n",
        "* an initialization method which takes as input the current term and initializes the three attributes;\n",
        "* `add_course`, a method which takes a string representing the course code, an int for the grade out of 100 and the number of credits. The method adds a new tuple to `grades`.\n",
        "* `get_best_courses`, a method which takes no parameters and outputs a list of course codes with the best grades. For instance, if the best grade is a 'B', it will output all course codes with a 'B', i.e. all courses codes with a grade between 70 and 74 (inclusive). You are required to use the helper function defined in the first part.\n",
        "* `get_GPA`, a method which outputs the Grade Point Average for the semester, assuming all classes all weighted by the number of credits. You are required to use the helper function from the first task. Round it to one decimal place.\n",
        "* `to_dict`, a method which returns a dict whose keys are the class codes and whose corresponding values are the letter grades. Once again, you must use the helper function from the first task.\n",
        "\n",
        "**Note.** All inputs are assumed to be valid. Particularly, you may assume there won't be duplicate class codes."
      ]
    },
    {
      "cell_type": "code",
      "metadata": {
        "id": "t_xY3228qPmP",
        "colab_type": "code",
        "colab": {}
      },
      "source": [
        "class GradeRecords:\n",
        "  ''' Represents a GradeRecord\n",
        "\n",
        "  Instance attributes : term (str), grades (list of tuples), num_courses (int)\n",
        "  ''' \n",
        "  def __init__(self, term, grades = [], num_courses = 0):\n",
        "    self.term = term\n",
        "    self.grades = grades \n",
        "    self.num_courses = num_courses\n",
        "\n",
        "  def add_course(self, course_code, grade, creds):\n",
        "    # add new course info\n",
        "    self.grades.append((course_code, grade, creds))\n",
        "    self.num_courses += 1\n",
        "  \n",
        "  def get_best_courses(self):\n",
        "    best_courses = []\n",
        "    # track to find the best grade\n",
        "    best_grade = to_grade_point(self.grades[0][1])[1]\n",
        "    for e in self.grades:\n",
        "      if to_grade_point(e[1])[1] > best_grade:\n",
        "        best_grade = to_grade_point(e[1])[1]\n",
        "    # add the courses that has grade equivalent to the best_grade found above\n",
        "    for e in self.grades:\n",
        "      if to_grade_point(e[1])[1] == best_grade:\n",
        "        best_courses.append(e[0])\n",
        "    \n",
        "    return best_courses\n",
        "  \n",
        "  def get_GPA(self):\n",
        "    creds = 0\n",
        "    grade = 0\n",
        "    # get total number of credits and total (grade*credit) to get GPA\n",
        "    for e in self.grades:\n",
        "      creds += e[2]\n",
        "      grade += to_grade_point(e[1])[1] * e[2]\n",
        "    \n",
        "    # calculate GPA \n",
        "    GPA = round(grade / creds, 1)\n",
        "    \n",
        "    return GPA\n",
        "  \n",
        "  def to_dict(self):\n",
        "      d = {}\n",
        "      # add courses to dict d \n",
        "      for e in self.grades:\n",
        "        if e[0] not in d:\n",
        "          d[e[0]] = to_grade_point(e[1])[0]\n",
        "      \n",
        "      return d\n",
        "  "
      ],
      "execution_count": 0,
      "outputs": []
    },
    {
      "cell_type": "markdown",
      "metadata": {
        "id": "CHoqh6O6qP6F",
        "colab_type": "text"
      },
      "source": [
        "You can test your code with the following snippet. If your code is correct you should see\n",
        "\n",
        "![code example 2](https://i.ibb.co/xCPCWyy/code2.png)"
      ]
    },
    {
      "cell_type": "code",
      "metadata": {
        "id": "AUcO4WNB7mDa",
        "colab_type": "code",
        "outputId": "bca4d2f3-7389-4b7d-f3b1-d127e9766a66",
        "colab": {
          "base_uri": "https://localhost:8080/",
          "height": 235
        }
      },
      "source": [
        "gr = GradeRecords(\"Fall 2019\")\n",
        "print(\"First batch\")\n",
        "print(\"Term: {}\".format(gr.term))\n",
        "\n",
        "gr.add_course(\"COMP 202\", 83, 3)\n",
        "gr.add_course(\"CLAS 203\", 75, 3)\n",
        "gr.add_course(\"LING 360\", 81, 3)\n",
        "\n",
        "print(\"Number of courses: {}\".format(gr.num_courses))\n",
        "print(\"Best courses: {}\".format(gr.get_best_courses()))\n",
        "print(\"GPA: {}\".format(gr.get_GPA()))\n",
        "print(\"Dictionary: {}\".format(gr.to_dict()))\n",
        "\n",
        "print() \n",
        "\n",
        "print(\"Second batch\")\n",
        "print(\"Term: {}\".format(gr.term))\n",
        "\n",
        "gr.add_course(\"COMP 551\", 67, 4)\n",
        "gr.add_course(\"HIST 318\", 88, 3)\n",
        "\n",
        "print(\"Number of courses: {}\".format(gr.num_courses))\n",
        "print(\"Best courses: {}\".format(gr.get_best_courses()))\n",
        "print(\"GPA: {}\".format(gr.get_GPA()))\n",
        "print(\"Dictionary: {}\".format(gr.to_dict()))"
      ],
      "execution_count": 0,
      "outputs": [
        {
          "output_type": "stream",
          "text": [
            "First batch\n",
            "Term: Fall 2019\n",
            "Number of courses: 3\n",
            "Best courses: ['COMP 202', 'LING 360']\n",
            "GPA: 3.6\n",
            "Dictionary: {'COMP 202': 'A-', 'CLAS 203': 'B+', 'LING 360': 'A-'}\n",
            "\n",
            "Second batch\n",
            "Term: Fall 2019\n",
            "Number of courses: 5\n",
            "Best courses: ['HIST 318']\n",
            "GPA: 3.4\n",
            "Dictionary: {'COMP 202': 'A-', 'CLAS 203': 'B+', 'LING 360': 'A-', 'COMP 551': 'B-', 'HIST 318': 'A'}\n"
          ],
          "name": "stdout"
        }
      ]
    }
  ]
}